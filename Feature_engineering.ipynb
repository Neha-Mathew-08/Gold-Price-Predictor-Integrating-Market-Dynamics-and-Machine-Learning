{
 "cells": [
  {
   "cell_type": "code",
   "execution_count": 12,
   "id": "b58a7022",
   "metadata": {},
   "outputs": [],
   "source": [
    "#import all necessary packages\n",
    "import pandas as pd\n",
    "import numpy as np"
   ]
  },
  {
   "cell_type": "code",
   "execution_count": 13,
   "id": "fa9e6205",
   "metadata": {},
   "outputs": [],
   "source": [
    "#importing data\n",
    "df_all = pd.read_csv(\"dataset.csv\")"
   ]
  },
  {
   "cell_type": "code",
   "execution_count": null,
   "id": "4c5571e4",
   "metadata": {},
   "outputs": [
    {
     "name": "stdout",
     "output_type": "stream",
     "text": [
      "                          gold            usd_inr                dxy  \\\n",
      "Date                                                                   \n",
      "NaT                       GC=F           USDINR=X           DX-Y.NYB   \n",
      "NaT                        NaN                NaN                NaN   \n",
      "2015-01-02              1186.0  63.02799987792969  91.08000183105469   \n",
      "2015-01-05  1203.9000244140625  63.27799987792969  91.37999725341797   \n",
      "2015-01-06   1219.300048828125   63.3380012512207               91.5   \n",
      "\n",
      "                treasury_yield               sp500                 vix  \\\n",
      "Date                                                                     \n",
      "NaT                       ^TNX               ^GSPC                ^VIX   \n",
      "NaT                        NaN                 NaN                 NaN   \n",
      "2015-01-02   2.122999906539917   2058.199951171875  17.790000915527344   \n",
      "2015-01-05  2.0390000343322754  2020.5799560546875  19.920000076293945   \n",
      "2015-01-06  1.9630000591278076  2002.6099853515625    21.1200008392334   \n",
      "\n",
      "                         crude              silver                btc  \n",
      "Date                                                                   \n",
      "NaT                       CL=F                SI=F            BTC-USD  \n",
      "NaT                        NaN                 NaN                NaN  \n",
      "2015-01-02  52.689998626708984  15.734000205993652  315.0320129394531  \n",
      "2015-01-05  50.040000915527344  16.179000854492188  274.4739990234375  \n",
      "2015-01-06   47.93000030517578   16.60300064086914  286.1889953613281  \n",
      "DatetimeIndex([       'NaT',        'NaT', '2015-01-02', '2015-01-05',\n",
      "               '2015-01-06', '2015-01-07', '2015-01-08', '2015-01-09',\n",
      "               '2015-01-12', '2015-01-13',\n",
      "               ...\n",
      "               '2025-05-16', '2025-05-19', '2025-05-20', '2025-05-21',\n",
      "               '2025-05-22', '2025-05-23', '2025-05-27', '2025-05-28',\n",
      "               '2025-05-29', '2025-05-30'],\n",
      "              dtype='datetime64[ns]', name='Date', length=2613, freq=None)\n"
     ]
    },
    {
     "name": "stderr",
     "output_type": "stream",
     "text": [
      "/var/folders/vq/x_32pj256zs5w0j98mhvmdyw0000gn/T/ipykernel_21585/3941061031.py:5: UserWarning: Could not infer format, so each element will be parsed individually, falling back to `dateutil`. To ensure parsing is consistent and as-expected, please specify a format.\n",
      "  df_all['Date'] = pd.to_datetime(df_all['Date'], errors='coerce')\n"
     ]
    }
   ],
   "source": [
    "# rename the 'Price' column to 'Date'\n",
    "df_all.rename(columns={'Price': 'Date'}, inplace=True)\n",
    "\n",
    "# Convert 'Date' to datetime\n",
    "df_all['Date'] = pd.to_datetime(df_all['Date'], errors='coerce')\n",
    "\n",
    "# Set the 'Date' column as index\n",
    "df_all.set_index('Date', inplace=True)\n",
    "\n",
    "# Check the head and index type\n",
    "print(df_all.head())\n",
    "print(df_all.index)"
   ]
  },
  {
   "cell_type": "code",
   "execution_count": 15,
   "id": "78ee7c2e",
   "metadata": {},
   "outputs": [],
   "source": [
    "# Convert all other columns to numeric\n",
    "for col in df_all.columns:\n",
    "    if col != 'Date':\n",
    "        df_all[col] = pd.to_numeric(df_all[col], errors='coerce')"
   ]
  },
  {
   "cell_type": "code",
   "execution_count": 16,
   "id": "c27ab689",
   "metadata": {},
   "outputs": [
    {
     "name": "stdout",
     "output_type": "stream",
     "text": [
      "                   gold    usd_inr        dxy  treasury_yield        sp500  \\\n",
      "Date                                                                         \n",
      "2015-01-15  1264.699951  62.088001  92.349998           1.775  1992.670044   \n",
      "2015-01-16  1276.900024  62.057999  92.519997           1.815  2019.420044   \n",
      "2015-01-20  1294.199951  61.638000  93.050003           1.807  2022.550049   \n",
      "2015-01-21  1293.699951  61.647999  92.900002           1.853  2032.119995   \n",
      "2015-01-22  1300.699951  61.553001  94.239998           1.896  2063.149902   \n",
      "\n",
      "                  vix      crude     silver         btc       target  ...  \\\n",
      "Date                                                                  ...   \n",
      "2015-01-15  22.389999  46.250000  17.073000  209.843994  1276.900024  ...   \n",
      "2015-01-16  20.950001  48.689999  17.739000  208.097000  1294.199951  ...   \n",
      "2015-01-20  19.889999  46.389999  17.947001  211.315002  1293.699951  ...   \n",
      "2015-01-21  18.850000  47.779999  18.179001  226.897003  1300.699951  ...   \n",
      "2015-01-22  16.400000  46.310001  18.346001  233.406006  1292.599976  ...   \n",
      "\n",
      "              btc_lag1    btc_lag3     gold_ma5  gold_std5    gold_ma10  \\\n",
      "Date                                                                      \n",
      "2015-01-15  178.102997  267.795990  1236.419995  17.600748  1221.030005   \n",
      "2015-01-16  209.843994  225.860992  1248.600000  20.730649  1230.120007   \n",
      "2015-01-20  208.097000  178.102997  1260.900000  26.406123  1239.150000   \n",
      "2015-01-21  211.315002  209.843994  1272.779980  24.757539  1246.589990   \n",
      "2015-01-22  226.897003  208.097000  1286.039966  14.824900  1255.599988   \n",
      "\n",
      "            gold_std10  gold_silver_ratio  gold_crude_ratio  gold_dxy_ratio  \\\n",
      "Date                                                                          \n",
      "2015-01-15   21.641617          74.076024         27.344864       13.694640   \n",
      "2015-01-16   24.228800          71.982637         26.225099       13.801341   \n",
      "2015-01-20   29.602284          72.112326         27.898253       13.908650   \n",
      "2015-01-21   33.191028          71.164524         27.076182       13.925726   \n",
      "2015-01-22   34.537588          70.898283         28.086804       13.801995   \n",
      "\n",
      "            gold_btc_ratio  \n",
      "Date                        \n",
      "2015-01-15        6.026858  \n",
      "2015-01-16        6.136081  \n",
      "2015-01-20        6.124506  \n",
      "2015-01-21        5.701706  \n",
      "2015-01-22        5.572693  \n",
      "\n",
      "[5 rows x 38 columns]\n"
     ]
    }
   ],
   "source": [
    "# Create target variable: next-day gold price\n",
    "df_all['target'] = df_all['gold'].shift(-1)\n",
    "\n",
    "# Lag configuration per feature\n",
    "lags = {\n",
    "    'gold': [1, 2, 3, 5],\n",
    "    'usd_inr': [1, 3],\n",
    "    'dxy': [1, 2],\n",
    "    'treasury_yield': [1],\n",
    "    'sp500': [1, 3, 5],\n",
    "    'vix': [1, 2],\n",
    "    'crude': [1, 3],\n",
    "    'silver': [1, 2],\n",
    "    'btc': [1, 3]\n",
    "}\n",
    "\n",
    "# Add lag features\n",
    "for col, lag_days in lags.items():\n",
    "    for lag in lag_days:\n",
    "        df_all[f'{col}_lag{lag}'] = df_all[col].shift(lag)\n",
    "\n",
    "# Rolling features (applied to gold only, can extend to others if needed)\n",
    "rolling_windows = [5, 10]\n",
    "for window in rolling_windows:\n",
    "    df_all[f'gold_ma{window}'] = df_all['gold'].rolling(window).mean()\n",
    "    df_all[f'gold_std{window}'] = df_all['gold'].rolling(window).std()\n",
    "\n",
    "# Ratio features\n",
    "df_all['gold_silver_ratio'] = df_all['gold'] / df_all['silver']\n",
    "df_all['gold_crude_ratio'] = df_all['gold'] / df_all['crude']\n",
    "df_all['gold_dxy_ratio'] = df_all['gold'] / df_all['dxy']\n",
    "df_all['gold_btc_ratio'] = df_all['gold'] / df_all['btc']\n",
    "\n",
    "# Final cleanup\n",
    "df_all.dropna(inplace=True)  # drop rows with NaNs caused by shift/rolling\n",
    "\n",
    "# View result\n",
    "print(df_all.head())"
   ]
  },
  {
   "cell_type": "code",
   "execution_count": 18,
   "id": "b8207e40",
   "metadata": {},
   "outputs": [
    {
     "data": {
      "text/plain": [
       "Index(['gold', 'usd_inr', 'dxy', 'treasury_yield', 'sp500', 'vix', 'crude',\n",
       "       'silver', 'btc', 'target', 'gold_lag1', 'gold_lag2', 'gold_lag3',\n",
       "       'gold_lag5', 'usd_inr_lag1', 'usd_inr_lag3', 'dxy_lag1', 'dxy_lag2',\n",
       "       'treasury_yield_lag1', 'sp500_lag1', 'sp500_lag3', 'sp500_lag5',\n",
       "       'vix_lag1', 'vix_lag2', 'crude_lag1', 'crude_lag3', 'silver_lag1',\n",
       "       'silver_lag2', 'btc_lag1', 'btc_lag3', 'gold_ma5', 'gold_std5',\n",
       "       'gold_ma10', 'gold_std10', 'gold_silver_ratio', 'gold_crude_ratio',\n",
       "       'gold_dxy_ratio', 'gold_btc_ratio'],\n",
       "      dtype='object')"
      ]
     },
     "execution_count": 18,
     "metadata": {},
     "output_type": "execute_result"
    }
   ],
   "source": [
    "df_all.columns"
   ]
  },
  {
   "cell_type": "code",
   "execution_count": null,
   "id": "25c79b24",
   "metadata": {},
   "outputs": [],
   "source": []
  }
 ],
 "metadata": {
  "kernelspec": {
   "display_name": "Python 3",
   "language": "python",
   "name": "python3"
  },
  "language_info": {
   "codemirror_mode": {
    "name": "ipython",
    "version": 3
   },
   "file_extension": ".py",
   "mimetype": "text/x-python",
   "name": "python",
   "nbconvert_exporter": "python",
   "pygments_lexer": "ipython3",
   "version": "3.12.1"
  }
 },
 "nbformat": 4,
 "nbformat_minor": 5
}
